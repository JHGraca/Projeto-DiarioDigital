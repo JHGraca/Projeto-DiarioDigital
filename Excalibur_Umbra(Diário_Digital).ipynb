{
  "nbformat": 4,
  "nbformat_minor": 0,
  "metadata": {
    "colab": {
      "provenance": [],
      "authorship_tag": "ABX9TyM1fwytScD+JC+his2Oq4AO",
      "include_colab_link": true
    },
    "kernelspec": {
      "name": "python3",
      "display_name": "Python 3"
    },
    "language_info": {
      "name": "python"
    }
  },
  "cells": [
    {
      "cell_type": "markdown",
      "metadata": {
        "id": "view-in-github",
        "colab_type": "text"
      },
      "source": [
        "<a href=\"https://colab.research.google.com/github/JHGraca/Projeto-DiarioDigital/blob/main/Excalibur_Umbra(Di%C3%A1rio_Digital).ipynb\" target=\"_parent\"><img src=\"https://colab.research.google.com/assets/colab-badge.svg\" alt=\"Open In Colab\"/></a>"
      ]
    },
    {
      "cell_type": "code",
      "execution_count": 27,
      "metadata": {
        "colab": {
          "base_uri": "https://localhost:8080/"
        },
        "id": "J39oQknRtpqz",
        "outputId": "a4461013-8de8-499f-b84f-b62419e5dd0d"
      },
      "outputs": [
        {
          "output_type": "stream",
          "name": "stdout",
          "text": [
            "Bem vindo ao seu Diário Pessoal!\n",
            "Hoje é 10/04/2025 09:01:33\n",
            "\n",
            "1.Escrever.\n",
            "\n",
            "2.Ler entradas.\n",
            "\n",
            "3.Sair.\n",
            "\n",
            "Escolha de 1 a 3: \n",
            "3\n",
            "Obrigado por usar o Diário digital!\n",
            ":)\n"
          ]
        }
      ],
      "source": [
        "#a madrugada faz as pessoas super produtivas\n",
        "import os\n",
        "from datetime import datetime, timezone, timedelta\n",
        "diferenca = timedelta()\n",
        "diferenca = timedelta(hours=-4)\n",
        "fuso_horario = timezone(diferenca)\n",
        "data_e_hora_atuais = datetime.now(fuso_horario)\n",
        "data_e_hora_atuais = data_e_hora_atuais.strftime(\"%d/%m/%Y %H:%M:%S\")\n",
        "escrever = 1\n",
        "ler_entradas = 2\n",
        "sair = 3\n",
        "print(f\"Bem vindo ao seu Diário Pessoal!\\nHoje é {data_e_hora_atuais}\\n\")\n",
        "print(\"\"\"1.Escrever.\\n\n",
        "2.Ler entradas.\\n\n",
        "3.Sair.\\n\"\"\")\n",
        "opcao = int(input(\"Escolha de 1 a 3: \\n\"))\n",
        "if opcao == escrever:\n",
        "  with open(\"diario.txt\", \"a\") as arquivo:\n",
        "    arquivo.write(f\"\\n{data_e_hora_atuais} - \")\n",
        "    entrada = input(\"Escreva sua entrada: \\n\")\n",
        "    arquivo.write(entrada)\n",
        "    escrever = True\n",
        "    if escrever == True:\n",
        "      print(\"Entrada salva com sucesso\")\n",
        "    elif escrever == False:\n",
        "         print(\"Erro ao salvar entrada.\")\n",
        "    escrever = False\n",
        "if opcao == ler_entradas:\n",
        "  with open(\"diario.txt\", \"r\") as arquivo:\n",
        "    conteudo = arquivo.read()\n",
        "    print(conteudo)\n",
        "    ler_entradas = True\n",
        "    if ler_entradas == True:\n",
        "      print(\"Entradas carregadas com sucesso\")\n",
        "    elif ler_entradas == False:\n",
        "      print(\"Erro ao carregar entradas.\")\n",
        "\n",
        "if opcao != sair:\n",
        "  print(\":)\")\n",
        "else:\n",
        "  print(\"Obrigado por usar o Diário digital!\\n:)\")"
      ]
    }
  ]
}